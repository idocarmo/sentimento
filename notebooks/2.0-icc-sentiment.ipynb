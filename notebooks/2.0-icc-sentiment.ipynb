{
 "cells": [
  {
   "attachments": {},
   "cell_type": "markdown",
   "metadata": {},
   "source": [
    "## Importing Libraries"
   ]
  },
  {
   "cell_type": "code",
   "execution_count": 43,
   "metadata": {},
   "outputs": [],
   "source": [
    "import re\n",
    "import numpy as np\n",
    "import string\n",
    "from typing import List\n",
    "\n",
    "from unidecode import unidecode\n",
    "\n",
    "import datasets\n",
    "from datasets import load_dataset\n",
    "\n",
    "import tensorflow as tf\n",
    "from tensorflow import keras\n",
    "from tensorflow.keras import layers\n",
    "from tensorflow.keras import losses"
   ]
  },
  {
   "attachments": {},
   "cell_type": "markdown",
   "metadata": {},
   "source": [
    "## Loading Data"
   ]
  },
  {
   "cell_type": "code",
   "execution_count": 2,
   "metadata": {},
   "outputs": [],
   "source": [
    "def load_data_splits():\n",
    "    raw_train_dataset, test_dataset = load_dataset('maritaca-ai/imdb_pt', split=['train', 'test'])\n",
    "    raw_train_dataset = raw_train_dataset.train_test_split(0.2)\n",
    "\n",
    "    return raw_train_dataset['train'], raw_train_dataset['test'], test_dataset"
   ]
  },
  {
   "cell_type": "code",
   "execution_count": 3,
   "metadata": {},
   "outputs": [
    {
     "name": "stderr",
     "output_type": "stream",
     "text": [
      "Found cached dataset imdb_pt (/home/codespace/.cache/huggingface/datasets/maritaca-ai___imdb_pt/plain_text/1.0.0/ffeeea85dfdf69a15638f37cdae931de451276b0fbc70c92f7cad159b96abb05)\n",
      "100%|██████████| 2/2 [00:00<00:00, 12.54it/s]\n"
     ]
    }
   ],
   "source": [
    "train_dataset, validation_dataset, test_dataset = load_data_splits()"
   ]
  },
  {
   "attachments": {},
   "cell_type": "markdown",
   "metadata": {},
   "source": [
    "## Data Processing"
   ]
  },
  {
   "cell_type": "code",
   "execution_count": 82,
   "metadata": {},
   "outputs": [],
   "source": [
    "VOCAB_SIZE = 10000\n",
    "MAX_TOKENS = 256\n",
    "BATCH_SIZE = 32\n",
    "\n",
    "class DataPipeline:\n",
    "    def __init__(self) -> None:\n",
    "        self.vectorizer_layer = layers.TextVectorization(\n",
    "            max_tokens=VOCAB_SIZE,\n",
    "            standardize=self.compose_corpus_tensor,\n",
    "            split='whitespace',\n",
    "            ngrams=None,\n",
    "            output_mode='int',\n",
    "            output_sequence_length=MAX_TOKENS,\n",
    "            pad_to_max_tokens=True,\n",
    "            encoding='utf-8',\n",
    "        )\n",
    "\n",
    "    def fit_transform(self, dataset: datasets.arrow_dataset.Dataset):\n",
    "        ds = dataset.map(self.decode_text, batch_size=BATCH_SIZE)\n",
    "        corpus_tensor = self.compose_corpus_tensor(ds['text'])\n",
    "        self.vectorizer_layer.adapt(corpus_tensor, batch_size=BATCH_SIZE)\n",
    "        return self.vectorizer_layer(ds['text']), np.array(ds['label'])\n",
    "\n",
    "    def transform(self, dataset: datasets.arrow_dataset.Dataset):\n",
    "        ds = dataset.map(self.decode_text, batch_size=BATCH_SIZE)\n",
    "        corpus = ds['text']\n",
    "        return self.vectorizer_layer(corpus), np.array(ds['label'])\n",
    "\n",
    "    @staticmethod\n",
    "    def decode_text(dataset_row):\n",
    "        dataset_row['text'] = unidecode(dataset_row['text'])\n",
    "        return dataset_row\n",
    "\n",
    "    @staticmethod\n",
    "    def standardize_text(input_data):\n",
    "        lowercase = tf.strings.lower(input_data)\n",
    "        standardized = tf.strings.regex_replace(\n",
    "            lowercase, \n",
    "            '[%s]' % re.escape(string.punctuation),\n",
    "            ''\n",
    "        )\n",
    "        return standardized\n",
    "\n",
    "    @staticmethod\n",
    "    def compose_corpus_tensor(corpus):\n",
    "        corpus_tensor = tf.expand_dims(corpus, -1)\n",
    "        return corpus_tensor"
   ]
  },
  {
   "cell_type": "code",
   "execution_count": 83,
   "metadata": {},
   "outputs": [
    {
     "name": "stderr",
     "output_type": "stream",
     "text": [
      "Loading cached processed dataset at /home/codespace/.cache/huggingface/datasets/maritaca-ai___imdb_pt/plain_text/1.0.0/ffeeea85dfdf69a15638f37cdae931de451276b0fbc70c92f7cad159b96abb05/cache-635d2f929d5e367f.arrow\n",
      "Loading cached processed dataset at /home/codespace/.cache/huggingface/datasets/maritaca-ai___imdb_pt/plain_text/1.0.0/ffeeea85dfdf69a15638f37cdae931de451276b0fbc70c92f7cad159b96abb05/cache-b67d12ea374471a5.arrow\n",
      "Loading cached processed dataset at /home/codespace/.cache/huggingface/datasets/maritaca-ai___imdb_pt/plain_text/1.0.0/ffeeea85dfdf69a15638f37cdae931de451276b0fbc70c92f7cad159b96abb05/cache-641110a89ca5198b.arrow\n"
     ]
    }
   ],
   "source": [
    "data_pipeline = DataPipeline()\n",
    "\n",
    "train_data, train_labels = data_pipeline.fit_transform(train_dataset)\n",
    "validation_data, validation_labels = data_pipeline.transform(validation_dataset)\n",
    "test_data, test_labels = data_pipeline.transform(test_dataset)"
   ]
  },
  {
   "attachments": {},
   "cell_type": "markdown",
   "metadata": {},
   "source": [
    "## Model"
   ]
  },
  {
   "cell_type": "code",
   "execution_count": 84,
   "metadata": {},
   "outputs": [
    {
     "name": "stdout",
     "output_type": "stream",
     "text": [
      "Model: \"sequential_6\"\n",
      "_________________________________________________________________\n",
      " Layer (type)                Output Shape              Param #   \n",
      "=================================================================\n",
      " embedding_6 (Embedding)     (None, 256, 2)            20002     \n",
      "                                                                 \n",
      " flatten_6 (Flatten)         (None, 512)               0         \n",
      "                                                                 \n",
      " dropout_6 (Dropout)         (None, 512)               0         \n",
      "                                                                 \n",
      " dense_12 (Dense)            (None, 5)                 2565      \n",
      "                                                                 \n",
      " dense_13 (Dense)            (None, 1)                 6         \n",
      "                                                                 \n",
      "=================================================================\n",
      "Total params: 22,573\n",
      "Trainable params: 22,573\n",
      "Non-trainable params: 0\n",
      "_________________________________________________________________\n"
     ]
    }
   ],
   "source": [
    "EMBEDDING_DIM = 2\n",
    "\n",
    "model = keras.Sequential([\n",
    "  layers.Embedding(VOCAB_SIZE + 1, EMBEDDING_DIM, input_length=256),\n",
    "  layers.Flatten(),\n",
    "  layers.Dropout(rate=0.5),\n",
    "  layers.Dense(5),\n",
    "  layers.Dense(1, activation='sigmoid')\n",
    "])\n",
    "\n",
    "model.summary()"
   ]
  },
  {
   "cell_type": "code",
   "execution_count": 85,
   "metadata": {},
   "outputs": [],
   "source": [
    "model.compile(\n",
    "    optimizer='adam',\n",
    "    loss='binary_crossentropy',\n",
    "    metrics=[tf.metrics.BinaryAccuracy(), tf.metrics.Precision(), tf.metrics.Recall()])"
   ]
  },
  {
   "cell_type": "code",
   "execution_count": 86,
   "metadata": {},
   "outputs": [
    {
     "name": "stdout",
     "output_type": "stream",
     "text": [
      "Epoch 1/10\n",
      "200/200 [==============================] - 2s 7ms/step - loss: 0.6928 - binary_accuracy: 0.5102 - precision_7: 0.5098 - recall_7: 0.4821 - val_loss: 0.6903 - val_binary_accuracy: 0.5500 - val_precision_7: 0.5559 - val_recall_7: 0.5312\n",
      "Epoch 2/10\n",
      "200/200 [==============================] - 1s 6ms/step - loss: 0.6370 - binary_accuracy: 0.6626 - precision_7: 0.6494 - recall_7: 0.7041 - val_loss: 0.5329 - val_binary_accuracy: 0.7664 - val_precision_7: 0.7781 - val_recall_7: 0.7503\n",
      "Epoch 3/10\n",
      "200/200 [==============================] - 1s 6ms/step - loss: 0.4421 - binary_accuracy: 0.8029 - precision_7: 0.7982 - recall_7: 0.8096 - val_loss: 0.3931 - val_binary_accuracy: 0.8330 - val_precision_7: 0.8384 - val_recall_7: 0.8281\n",
      "Epoch 4/10\n",
      "200/200 [==============================] - 1s 6ms/step - loss: 0.3517 - binary_accuracy: 0.8498 - precision_7: 0.8451 - recall_7: 0.8559 - val_loss: 0.3660 - val_binary_accuracy: 0.8390 - val_precision_7: 0.8864 - val_recall_7: 0.7805\n",
      "Epoch 5/10\n",
      "200/200 [==============================] - 1s 7ms/step - loss: 0.3115 - binary_accuracy: 0.8688 - precision_7: 0.8621 - recall_7: 0.8775 - val_loss: 0.3382 - val_binary_accuracy: 0.8550 - val_precision_7: 0.8608 - val_recall_7: 0.8495\n",
      "Epoch 6/10\n",
      "200/200 [==============================] - 1s 6ms/step - loss: 0.2837 - binary_accuracy: 0.8824 - precision_7: 0.8794 - recall_7: 0.8858 - val_loss: 0.3393 - val_binary_accuracy: 0.8572 - val_precision_7: 0.8441 - val_recall_7: 0.8789\n",
      "Epoch 7/10\n",
      "200/200 [==============================] - 1s 5ms/step - loss: 0.2672 - binary_accuracy: 0.8895 - precision_7: 0.8847 - recall_7: 0.8952 - val_loss: 0.3459 - val_binary_accuracy: 0.8532 - val_precision_7: 0.8889 - val_recall_7: 0.8098\n",
      "Epoch 8/10\n",
      "200/200 [==============================] - 1s 6ms/step - loss: 0.2530 - binary_accuracy: 0.8960 - precision_7: 0.8922 - recall_7: 0.9003 - val_loss: 0.3392 - val_binary_accuracy: 0.8574 - val_precision_7: 0.8695 - val_recall_7: 0.8436\n",
      "Epoch 9/10\n",
      "200/200 [==============================] - 1s 6ms/step - loss: 0.2409 - binary_accuracy: 0.8999 - precision_7: 0.8967 - recall_7: 0.9035 - val_loss: 0.3388 - val_binary_accuracy: 0.8588 - val_precision_7: 0.8534 - val_recall_7: 0.8690\n",
      "Epoch 10/10\n",
      "200/200 [==============================] - 1s 6ms/step - loss: 0.2368 - binary_accuracy: 0.9046 - precision_7: 0.8994 - recall_7: 0.9107 - val_loss: 0.3411 - val_binary_accuracy: 0.8580 - val_precision_7: 0.8672 - val_recall_7: 0.8480\n"
     ]
    }
   ],
   "source": [
    "EPOCHS = 10\n",
    "\n",
    "history = model.fit(train_data,\n",
    "                    np.array(train_labels),\n",
    "                    epochs=EPOCHS,\n",
    "                    batch_size=100,\n",
    "                    validation_data=(validation_data, validation_labels),\n",
    "                    verbose=1)"
   ]
  },
  {
   "cell_type": "code",
   "execution_count": 88,
   "metadata": {},
   "outputs": [
    {
     "ename": "",
     "evalue": "",
     "output_type": "error",
     "traceback": [
      "\u001b[1;31mThe Kernel crashed while executing code in the the current cell or a previous cell. Please review the code in the cell(s) to identify a possible cause of the failure. Click <a href='https://aka.ms/vscodeJupyterKernelCrash'>here</a> for more info. View Jupyter <a href='command:jupyter.viewOutput'>log</a> for further details."
     ]
    }
   ],
   "source": [
    "history_dict = history.history"
   ]
  },
  {
   "cell_type": "code",
   "execution_count": 79,
   "metadata": {},
   "outputs": [],
   "source": [
    "import matplotlib.pyplot as plt\n",
    "def plot_accuracy(history, miny=None):\n",
    "    acc = history.history['binary_accuracy']\n",
    "    test_acc = history.history['val_binary_accuracy']\n",
    "    epochs = range(len(acc))\n",
    "    plt.plot(epochs, acc)\n",
    "    plt.plot(epochs, test_acc)\n",
    "    if miny:\n",
    "        plt.ylim(miny, 1.0)\n",
    "    plt.title('accuracy') \n",
    "    plt.xlabel('epoch')\n",
    "    plt.figure()"
   ]
  },
  {
   "cell_type": "code",
   "execution_count": 87,
   "metadata": {},
   "outputs": [
    {
     "data": {
      "image/png": "[encoded data removed]",
      "text/plain": [
       "<Figure size 640x480 with 1 Axes>"
      ]
     },
     "metadata": {},
     "output_type": "display_data"
    },
    {
     "data": {
      "text/plain": [
       "<Figure size 640x480 with 0 Axes>"
      ]
     },
     "metadata": {},
     "output_type": "display_data"
    }
   ],
   "source": [
    "plot_accuracy(history, miny=None)"
   ]
  },
  {
   "cell_type": "code",
   "execution_count": null,
   "metadata": {},
   "outputs": [],
   "source": [
    "callback = tf.keras.callbacks.EarlyStopping(monitor='accuracy', patience=1)\n",
    "\n",
    "history = model.fit(train_data,\n",
    "                    np.array(train_labels),\n",
    "                    epochs=EPOCHS,\n",
    "                    batch_size=100,\n",
    "                    validation_data=(validation_data, validation_labels),\n",
    "                    callbacks=[callback]\n",
    "                    verbose=1)\n"
   ]
  }
 ],
 "metadata": {
  "kernelspec": {
   "display_name": "sentimento",
   "language": "python",
   "name": "python3"
  },
  "language_info": {
   "codemirror_mode": {
    "name": "ipython",
    "version": 3
   },
   "file_extension": ".py",
   "mimetype": "text/x-python",
   "name": "python",
   "nbconvert_exporter": "python",
   "pygments_lexer": "ipython3",
   "version": "3.8.16"
  },
  "orig_nbformat": 4
 },
 "nbformat": 4,
 "nbformat_minor": 2
}
