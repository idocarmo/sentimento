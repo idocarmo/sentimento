{
 "cells": [
  {
   "attachments": {},
   "cell_type": "markdown",
   "metadata": {},
   "source": [
    "# Portuguese IMDB Reviews\n",
    "\n",
    "Data taken from Hugging Face Maritaca AI [Portuguese IMDB Reviews](https://huggingface.co/datasets/maritaca-ai/imdb_pt)."
   ]
  },
  {
   "cell_type": "markdown",
   "metadata": {},
   "source": [
    "### Import Libraries"
   ]
  },
  {
   "cell_type": "code",
   "execution_count": 95,
   "metadata": {},
   "outputs": [],
   "source": [
    "import numpy as np \n",
    "import pandas as pd\n",
    "import matplotlib.pyplot as plt\n",
    "import seaborn as sns\n",
    "\n",
    "import textwrap\n",
    "\n",
    "from datasets import load_dataset"
   ]
  },
  {
   "cell_type": "markdown",
   "metadata": {},
   "source": [
    "### Load IMDB Reviews Dataset"
   ]
  },
  {
   "cell_type": "code",
   "execution_count": 96,
   "metadata": {},
   "outputs": [
    {
     "name": "stderr",
     "output_type": "stream",
     "text": [
      "Found cached dataset imdb_pt (/Users/idocarmo/.cache/huggingface/datasets/maritaca-ai___imdb_pt/plain_text/1.0.0/ffeeea85dfdf69a15638f37cdae931de451276b0fbc70c92f7cad159b96abb05)\n",
      "100%|██████████| 2/2 [00:00<00:00, 295.59it/s]\n"
     ]
    }
   ],
   "source": [
    "dataset_train, dataset_test = load_dataset('maritaca-ai/imdb_pt', split=['train', 'test'])"
   ]
  },
  {
   "cell_type": "markdown",
   "metadata": {},
   "source": [
    "Split train data in train and validation sets"
   ]
  },
  {
   "cell_type": "code",
   "execution_count": 97,
   "metadata": {},
   "outputs": [
    {
     "name": "stderr",
     "output_type": "stream",
     "text": [
      "Loading cached split indices for dataset at /Users/idocarmo/.cache/huggingface/datasets/maritaca-ai___imdb_pt/plain_text/1.0.0/ffeeea85dfdf69a15638f37cdae931de451276b0fbc70c92f7cad159b96abb05/cache-b0a5c7dba16e123e.arrow and /Users/idocarmo/.cache/huggingface/datasets/maritaca-ai___imdb_pt/plain_text/1.0.0/ffeeea85dfdf69a15638f37cdae931de451276b0fbc70c92f7cad159b96abb05/cache-a02b26a26fb632e1.arrow\n"
     ]
    }
   ],
   "source": [
    "dataset_train, dataset_validation = dataset_train.train_test_split(0.2, seed=0).values()"
   ]
  },
  {
   "cell_type": "markdown",
   "metadata": {},
   "source": [
    "#### Review Example"
   ]
  },
  {
   "cell_type": "code",
   "execution_count": 98,
   "metadata": {},
   "outputs": [
    {
     "name": "stdout",
     "output_type": "stream",
     "text": [
      "Não me interpretem mal - eu amo David como Poirot. Eu amo a série e os filmes,\n",
      "mas o suficiente já é: morte no Nilo. Todo mundo fez este!Sabemos quem morre.\n",
      "Nós sabemos por que eles morrem. Sabemos quem é o assassino. Sabemos como foi\n",
      "feito. Então eu já digo o suficiente!O Sr. Suchet poderia ter usado esse talento\n",
      "incrível em outro dos romances de Agatha Christie. Eu direi que a atuação de\n",
      "todos os atores foi excelente. Os cenários eram fantásticos e muito realistas.\n",
      "Eu gostei especialmente de David Soul, mas fiquei surpreso com a aparência\n",
      "'horrível'. Espero que ele não pareça assim na vida 'real'!Sinceramente, não me\n",
      "lembro de outros filmes se o fim era o mesmo. De alguma forma, acho que não. Eu\n",
      "pensei que era um toque bastante brilhante se a Sra. Christie escreveu dessa\n",
      "maneira. Eu preferiria ter esse final então desperdiçando na prisão!\n"
     ]
    }
   ],
   "source": [
    "print(textwrap.fill(dataset_train[\"text\"][100], 80))"
   ]
  },
  {
   "cell_type": "markdown",
   "metadata": {},
   "source": [
    "### Target Balance"
   ]
  },
  {
   "cell_type": "markdown",
   "metadata": {},
   "source": [
    "Train"
   ]
  },
  {
   "cell_type": "code",
   "execution_count": 99,
   "metadata": {},
   "outputs": [
    {
     "data": {
      "text/plain": [
       "0.5003"
      ]
     },
     "execution_count": 99,
     "metadata": {},
     "output_type": "execute_result"
    }
   ],
   "source": [
    "np.mean(dataset_train[\"label\"])"
   ]
  },
  {
   "cell_type": "markdown",
   "metadata": {},
   "source": [
    "Validation"
   ]
  },
  {
   "cell_type": "code",
   "execution_count": 100,
   "metadata": {},
   "outputs": [
    {
     "data": {
      "text/plain": [
       "0.4988"
      ]
     },
     "execution_count": 100,
     "metadata": {},
     "output_type": "execute_result"
    }
   ],
   "source": [
    "np.mean(dataset_validation[\"label\"])"
   ]
  },
  {
   "cell_type": "markdown",
   "metadata": {},
   "source": [
    "Test"
   ]
  },
  {
   "cell_type": "code",
   "execution_count": 101,
   "metadata": {},
   "outputs": [
    {
     "data": {
      "text/plain": [
       "0.5"
      ]
     },
     "execution_count": 101,
     "metadata": {},
     "output_type": "execute_result"
    }
   ],
   "source": [
    "np.mean(dataset_test[\"label\"])"
   ]
  },
  {
   "cell_type": "markdown",
   "metadata": {},
   "source": [
    "### Estimate Number of Tokens"
   ]
  },
  {
   "cell_type": "code",
   "execution_count": 102,
   "metadata": {},
   "outputs": [],
   "source": [
    "def estimate_tokens(example):\n",
    "    example[\"n_tokens\"] = len(example[\"text\"].split())\n",
    "    return example"
   ]
  },
  {
   "cell_type": "code",
   "execution_count": 103,
   "metadata": {},
   "outputs": [
    {
     "name": "stderr",
     "output_type": "stream",
     "text": [
      "Loading cached processed dataset at /Users/idocarmo/.cache/huggingface/datasets/maritaca-ai___imdb_pt/plain_text/1.0.0/ffeeea85dfdf69a15638f37cdae931de451276b0fbc70c92f7cad159b96abb05/cache-df3285a38d9000d5.arrow\n"
     ]
    }
   ],
   "source": [
    "dataset_train = dataset_train.map(estimate_tokens)\n",
    "dataset_validation = dataset_validation.map(estimate_tokens)\n",
    "dataset_test = dataset_test.map(estimate_tokens)"
   ]
  },
  {
   "cell_type": "code",
   "execution_count": 104,
   "metadata": {},
   "outputs": [
    {
     "name": "stdout",
     "output_type": "stream",
     "text": [
      "TOKENS\n",
      "train\n",
      "mean: 219    std: 167   \n",
      "\n",
      "validation\n",
      "mean: 214    std: 159   \n",
      "\n",
      "test\n",
      "mean: 214    std: 159   \n",
      "\n"
     ]
    }
   ],
   "source": [
    "names = [\"train\", \"validation\", \"test\"]\n",
    "data_sets = [\n",
    "    dataset_train[\"n_tokens\"], \n",
    "    dataset_validation[\"n_tokens\"], \n",
    "    dataset_test[\"n_tokens\"]\n",
    "]\n",
    "print(\"TOKENS\")\n",
    "for name, data in zip(names, data_sets):\n",
    "    mu = np.mean(data)\n",
    "    s = np.std(data, ddof=1)\n",
    "    print(name)\n",
    "    print(\"mean: {0:<6.0f} std: {1:<6.0f}\\n\".format(mu, s))"
   ]
  },
  {
   "cell_type": "code",
   "execution_count": 105,
   "metadata": {},
   "outputs": [
    {
     "data": {
      "image/png": "[encoded data removed]",
      "text/plain": [
       "<Figure size 800x550 with 1 Axes>"
      ]
     },
     "metadata": {},
     "output_type": "display_data"
    }
   ],
   "source": [
    "fig, ax = plt.subplots()\n",
    "\n",
    "fig.suptitle(\"Tokens Distribution\")\n",
    "\n",
    "sns.boxplot(\n",
    "    data = data_sets,\n",
    "    orient = 'h',\n",
    "    ax = ax\n",
    ")\n",
    "\n",
    "ax.set_yticks([0, 1, 2], names)\n",
    "ax.set_xlabel(\"Number of Tokens\")\n",
    "\n",
    "fig.tight_layout()\n",
    "plt.show()\n"
   ]
  },
  {
   "cell_type": "code",
   "execution_count": 111,
   "metadata": {},
   "outputs": [
    {
     "data": {
      "text/html": [
       "<div>\n",
       "<style scoped>\n",
       "    .dataframe tbody tr th:only-of-type {\n",
       "        vertical-align: middle;\n",
       "    }\n",
       "\n",
       "    .dataframe tbody tr th {\n",
       "        vertical-align: top;\n",
       "    }\n",
       "\n",
       "    .dataframe thead th {\n",
       "        text-align: right;\n",
       "    }\n",
       "</style>\n",
       "<table border=\"1\" class=\"dataframe\">\n",
       "  <thead>\n",
       "    <tr style=\"text-align: right;\">\n",
       "      <th></th>\n",
       "      <th>train</th>\n",
       "      <th>validation</th>\n",
       "      <th>test</th>\n",
       "    </tr>\n",
       "  </thead>\n",
       "  <tbody>\n",
       "    <tr>\n",
       "      <th>count</th>\n",
       "      <td>20000.000000</td>\n",
       "      <td>5000.000000</td>\n",
       "      <td>5000.000000</td>\n",
       "    </tr>\n",
       "    <tr>\n",
       "      <th>mean</th>\n",
       "      <td>219.274450</td>\n",
       "      <td>214.369000</td>\n",
       "      <td>213.716400</td>\n",
       "    </tr>\n",
       "    <tr>\n",
       "      <th>std</th>\n",
       "      <td>166.986404</td>\n",
       "      <td>158.968676</td>\n",
       "      <td>158.722606</td>\n",
       "    </tr>\n",
       "    <tr>\n",
       "      <th>min</th>\n",
       "      <td>8.000000</td>\n",
       "      <td>11.000000</td>\n",
       "      <td>10.000000</td>\n",
       "    </tr>\n",
       "    <tr>\n",
       "      <th>25%</th>\n",
       "      <td>119.000000</td>\n",
       "      <td>119.000000</td>\n",
       "      <td>118.000000</td>\n",
       "    </tr>\n",
       "    <tr>\n",
       "      <th>50%</th>\n",
       "      <td>164.000000</td>\n",
       "      <td>163.000000</td>\n",
       "      <td>162.000000</td>\n",
       "    </tr>\n",
       "    <tr>\n",
       "      <th>75%</th>\n",
       "      <td>264.000000</td>\n",
       "      <td>259.000000</td>\n",
       "      <td>256.000000</td>\n",
       "    </tr>\n",
       "    <tr>\n",
       "      <th>max</th>\n",
       "      <td>2384.000000</td>\n",
       "      <td>1551.000000</td>\n",
       "      <td>1041.000000</td>\n",
       "    </tr>\n",
       "  </tbody>\n",
       "</table>\n",
       "</div>"
      ],
      "text/plain": [
       "              train   validation         test\n",
       "count  20000.000000  5000.000000  5000.000000\n",
       "mean     219.274450   214.369000   213.716400\n",
       "std      166.986404   158.968676   158.722606\n",
       "min        8.000000    11.000000    10.000000\n",
       "25%      119.000000   119.000000   118.000000\n",
       "50%      164.000000   163.000000   162.000000\n",
       "75%      264.000000   259.000000   256.000000\n",
       "max     2384.000000  1551.000000  1041.000000"
      ]
     },
     "execution_count": 111,
     "metadata": {},
     "output_type": "execute_result"
    }
   ],
   "source": [
    "df = pd.DataFrame(data_sets, index=['train', 'validation', 'test']).T\n",
    "df.describe()"
   ]
  }
 ],
 "metadata": {
  "kernelspec": {
   "display_name": "Python 3 (ipykernel)",
   "language": "python",
   "name": "python3"
  },
  "language_info": {
   "codemirror_mode": {
    "name": "ipython",
    "version": 3
   },
   "file_extension": ".py",
   "mimetype": "text/x-python",
   "name": "python",
   "nbconvert_exporter": "python",
   "pygments_lexer": "ipython3",
   "version": "3.8.18"
  },
  "orig_nbformat": 4
 },
 "nbformat": 4,
 "nbformat_minor": 2
}
