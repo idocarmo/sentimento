{
 "cells": [
  {
   "attachments": {},
   "cell_type": "markdown",
   "metadata": {},
   "source": [
    "# Portuguese IMDB Reviews\n",
    "\n",
    "Data taken from Hugging Face Maritaca AI [Portuguese IMDB Reviews](https://huggingface.co/datasets/maritaca-ai/imdb_pt)."
   ]
  },
  {
   "cell_type": "markdown",
   "metadata": {},
   "source": [
    "### Import Libraries"
   ]
  },
  {
   "cell_type": "code",
   "execution_count": 91,
   "metadata": {},
   "outputs": [
    {
     "name": "stderr",
     "output_type": "stream",
     "text": [
      "/var/folders/0x/l13xphsx5_5_r2wcf00wfxl80000gp/T/ipykernel_68102/2401866118.py:10: MatplotlibDeprecationWarning: The seaborn styles shipped by Matplotlib are deprecated since 3.6, as they no longer correspond to the styles shipped by seaborn. However, they will remain available as 'seaborn-v0_8-<style>'. Alternatively, directly use the seaborn API instead.\n",
      "  plt.style.use('seaborn')\n"
     ]
    }
   ],
   "source": [
    "import numpy as np \n",
    "import pandas as pd\n",
    "import matplotlib.pyplot as plt\n",
    "import seaborn as sns\n",
    "\n",
    "import textwrap\n",
    "\n",
    "from datasets import load_dataset"
   ]
  },
  {
   "cell_type": "markdown",
   "metadata": {},
   "source": [
    "### Load IMDB Reviews Dataset"
   ]
  },
  {
   "cell_type": "code",
   "execution_count": 7,
   "metadata": {},
   "outputs": [
    {
     "name": "stderr",
     "output_type": "stream",
     "text": [
      "Found cached dataset imdb_pt (/Users/idocarmo/.cache/huggingface/datasets/maritaca-ai___imdb_pt/plain_text/1.0.0/ffeeea85dfdf69a15638f37cdae931de451276b0fbc70c92f7cad159b96abb05)\n",
      "100%|██████████| 2/2 [00:00<00:00, 237.95it/s]\n"
     ]
    }
   ],
   "source": [
    "dataset_train, dataset_test = load_dataset('maritaca-ai/imdb_pt', split=['train', 'test'])"
   ]
  },
  {
   "cell_type": "markdown",
   "metadata": {},
   "source": [
    "Split train data in train and validation sets"
   ]
  },
  {
   "cell_type": "code",
   "execution_count": 26,
   "metadata": {},
   "outputs": [],
   "source": [
    "dataset_train, dataset_validation = dataset_train.train_test_split(0.2, seed=0).values()"
   ]
  },
  {
   "cell_type": "markdown",
   "metadata": {},
   "source": [
    "#### Review Example"
   ]
  },
  {
   "cell_type": "code",
   "execution_count": 65,
   "metadata": {},
   "outputs": [
    {
     "name": "stdout",
     "output_type": "stream",
     "text": [
      "Vou lhe dizer o que aconteceu, algumas pessoas com dinheiro acharam que seria\n",
      "bom arruinar um dos melhores shows que estava na TV. Nós realmente precisamos de\n",
      "uma tela de tela grande?Eles perguntaram aos fãs?Eu me pergunto como todos os\n",
      "fãs se sentiriam se fizessem um remake de \"Rocky Horror Picture Show\" com atores\n",
      "como Ashton Kraccher, Steve Martin, Britney Spears e Kiefer Southerland,\n",
      "eliminaram toda a música e fizeram um drama. Você acha que eles gostariam\n",
      "disso!Este filme não tem a mesma sensação que o original tinha. Claro que o\n",
      "original era um pouco brega às vezes, mas Bo e Luke sempre eram legais, eles\n",
      "tiveram problemas porque sempre estavam preparados para ter problemas, e seu\n",
      "principal objetivo era ajudar as pessoas que passavam pela cidade. Nada disso\n",
      "importava para as pessoas que fizeram esse filme, elas nunca tenham visto o\n",
      "programa original o tempo todo. Minha grande pergunta é: o que eles vão arruinar\n",
      "a seguir?\n"
     ]
    }
   ],
   "source": [
    "print(textwrap.fill(dataset_train[\"text\"][100], 80))"
   ]
  },
  {
   "cell_type": "markdown",
   "metadata": {},
   "source": [
    "### Target Balance"
   ]
  },
  {
   "cell_type": "markdown",
   "metadata": {},
   "source": [
    "Train"
   ]
  },
  {
   "cell_type": "code",
   "execution_count": 28,
   "metadata": {},
   "outputs": [
    {
     "data": {
      "text/plain": [
       "0.495390625"
      ]
     },
     "execution_count": 28,
     "metadata": {},
     "output_type": "execute_result"
    }
   ],
   "source": [
    "np.mean(dataset_train[\"label\"])"
   ]
  },
  {
   "cell_type": "markdown",
   "metadata": {},
   "source": [
    "Validation"
   ]
  },
  {
   "cell_type": "code",
   "execution_count": 29,
   "metadata": {},
   "outputs": [
    {
     "data": {
      "text/plain": [
       "0.5003125"
      ]
     },
     "execution_count": 29,
     "metadata": {},
     "output_type": "execute_result"
    }
   ],
   "source": [
    "np.mean(dataset_validation[\"label\"])"
   ]
  },
  {
   "cell_type": "markdown",
   "metadata": {},
   "source": [
    "Test"
   ]
  },
  {
   "cell_type": "code",
   "execution_count": 30,
   "metadata": {},
   "outputs": [
    {
     "data": {
      "text/plain": [
       "0.5"
      ]
     },
     "execution_count": 30,
     "metadata": {},
     "output_type": "execute_result"
    }
   ],
   "source": [
    "np.mean(dataset_test[\"label\"])"
   ]
  },
  {
   "cell_type": "markdown",
   "metadata": {},
   "source": [
    "### Estimate Number of Tokens"
   ]
  },
  {
   "cell_type": "code",
   "execution_count": 14,
   "metadata": {},
   "outputs": [],
   "source": [
    "def estimate_tokens(example):\n",
    "    example[\"n_tokens\"] = len(example[\"text\"].split())\n",
    "    return example"
   ]
  },
  {
   "cell_type": "code",
   "execution_count": 15,
   "metadata": {},
   "outputs": [
    {
     "name": "stderr",
     "output_type": "stream",
     "text": [
      "                                                                    \r"
     ]
    }
   ],
   "source": [
    "dataset_train = dataset_train.map(estimate_tokens)\n",
    "dataset_validation = dataset_validation.map(estimate_tokens)\n",
    "dataset_test = dataset_test.map(estimate_tokens)"
   ]
  },
  {
   "cell_type": "code",
   "execution_count": 67,
   "metadata": {},
   "outputs": [
    {
     "name": "stdout",
     "output_type": "stream",
     "text": [
      "TOKENS\n",
      "train\n",
      "mean: 217    std: 164   \n",
      "\n",
      "validation\n",
      "mean: 224    std: 171   \n",
      "\n",
      "test\n",
      "mean: 214    std: 159   \n",
      "\n"
     ]
    }
   ],
   "source": [
    "names = [\"train\", \"validation\", \"test\"]\n",
    "data_sets = [\n",
    "    dataset_train[\"n_tokens\"], \n",
    "    dataset_validation[\"n_tokens\"], \n",
    "    dataset_test[\"n_tokens\"]\n",
    "]\n",
    "print(\"TOKENS\")\n",
    "for name, data in zip(names, data_sets):\n",
    "    mu = np.mean(data)\n",
    "    s = np.std(data, ddof=1)\n",
    "    print(name)\n",
    "    print(\"mean: {0:<6.0f} std: {1:<6.0f}\\n\".format(mu, s))"
   ]
  },
  {
   "cell_type": "code",
   "execution_count": 94,
   "metadata": {},
   "outputs": [
    {
     "data": {
      "image/png": "[encoded data removed]",
      "text/plain": [
       "<Figure size 800x550 with 1 Axes>"
      ]
     },
     "metadata": {},
     "output_type": "display_data"
    }
   ],
   "source": [
    "fig, ax = plt.subplots()\n",
    "\n",
    "fig.suptitle(\"Tokens Distribution\")\n",
    "\n",
    "sns.boxplot(\n",
    "    data = data_sets,\n",
    "    orient = 'h',\n",
    "    ax = ax\n",
    ")\n",
    "\n",
    "ax.set_yticks([0, 1, 2], names)\n",
    "ax.set_xlabel(\"Number of Tokens\")\n",
    "\n",
    "fig.tight_layout()\n",
    "plt.show()\n"
   ]
  }
 ],
 "metadata": {
  "kernelspec": {
   "display_name": "Python 3 (ipykernel)",
   "language": "python",
   "name": "python3"
  },
  "language_info": {
   "codemirror_mode": {
    "name": "ipython",
    "version": 3
   },
   "file_extension": ".py",
   "mimetype": "text/x-python",
   "name": "python",
   "nbconvert_exporter": "python",
   "pygments_lexer": "ipython3",
   "version": "3.8.18"
  },
  "orig_nbformat": 4
 },
 "nbformat": 4,
 "nbformat_minor": 2
}
