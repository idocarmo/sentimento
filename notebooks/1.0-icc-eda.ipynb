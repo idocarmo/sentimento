{
 "cells": [
  {
   "attachments": {},
   "cell_type": "markdown",
   "metadata": {},
   "source": [
    "# Portuguese IMDB Reviews\n",
    "\n",
    "Data taken from Hugging Face Maritaca AI [Sentiment Analysis on Movie Reviews](https://www.kaggle.com/competitions/sentiment-analysis-on-movie-reviews) competition."
   ]
  },
  {
   "cell_type": "code",
   "execution_count": 1,
   "metadata": {},
   "outputs": [
    {
     "name": "stderr",
     "output_type": "stream",
     "text": [
      "/opt/conda/envs/sentimento/lib/python3.8/site-packages/tqdm/auto.py:21: TqdmWarning: IProgress not found. Please update jupyter and ipywidgets. See https://ipywidgets.readthedocs.io/en/stable/user_install.html\n",
      "  from .autonotebook import tqdm as notebook_tqdm\n"
     ]
    }
   ],
   "source": [
    "import numpy as np \n",
    "import pandas as pd\n",
    "\n",
    "from datasets import load_dataset"
   ]
  },
  {
   "cell_type": "code",
   "execution_count": 38,
   "metadata": {},
   "outputs": [
    {
     "name": "stderr",
     "output_type": "stream",
     "text": [
      "Found cached dataset imdb_pt (/home/codespace/.cache/huggingface/datasets/maritaca-ai___imdb_pt/plain_text/1.0.0/ffeeea85dfdf69a15638f37cdae931de451276b0fbc70c92f7cad159b96abb05)\n",
      "100%|██████████| 2/2 [00:00<00:00, 23.68it/s]\n"
     ]
    }
   ],
   "source": [
    "dataset_train, dataset_test = load_dataset('maritaca-ai/imdb_pt', split=['train', 'test'])"
   ]
  },
  {
   "cell_type": "code",
   "execution_count": 39,
   "metadata": {},
   "outputs": [],
   "source": [
    "def estimate_tokens(example):\n",
    "\n",
    "    example[\"n_tokens\"] = len(example[\"text\"].split())\n",
    "\n",
    "    return example\n",
    "\n",
    "def count_characters(example):\n",
    "\n",
    "    example[\"n_characters\"] = len(example[\"text\"])\n",
    "\n",
    "    return example\n",
    "\n"
   ]
  },
  {
   "cell_type": "code",
   "execution_count": 43,
   "metadata": {},
   "outputs": [
    {
     "name": "stderr",
     "output_type": "stream",
     "text": [
      "                                                                    \r"
     ]
    }
   ],
   "source": [
    "dataset_train = dataset_train.map(estimate_tokens).map(count_characters)\n",
    "dataset_test = dataset_test.map(estimate_tokens).map(count_characters)"
   ]
  },
  {
   "cell_type": "code",
   "execution_count": null,
   "metadata": {},
   "outputs": [],
   "source": [
    "def tokenize(text: str) -> List[str]:\n",
    "    \"\"\"Clean, tokenize and lemmatize Portuguese text.\n",
    "    \n",
    "    Strips special characters, extra spaces \n",
    "    and transform to lowercase. \n",
    "    Tokenize and lemmatize the tokens\n",
    "\n",
    "    Args:\n",
    "      textstring:\n",
    "        plain text string.\n",
    "\n",
    "    Returns:\n",
    "      List of lemmatized tokens of the comment.\n",
    "    \"\"\"\n",
    "\n",
    "    # Transform to lower case\n",
    "    text = text.lower()\n",
    "\n",
    "    # Remove line breaks\n",
    "    text = re.sub('\\n', ' ', text)\n",
    "    text = re.sub('\\r', ' ', text)\n",
    "    \n",
    "    # Strip extra white spaces\n",
    "    text = text.strip()\n",
    "    text = re.sub(' +', ' ', text)\n",
    "\n",
    "    doc = nlp(text)\n",
    "\n",
    "    tokens = []\n",
    "    for token in doc:\n",
    "      token = token.lemma_\n",
    "      token = unidecode(token)\n",
    "      if token.isalpha():\n",
    "        tokens.append(token)\n",
    "\n",
    "    return tokens "
   ]
  }
 ],
 "metadata": {
  "kernelspec": {
   "display_name": "Python 3 (ipykernel)",
   "language": "python",
   "name": "python3"
  },
  "language_info": {
   "codemirror_mode": {
    "name": "ipython",
    "version": 3
   },
   "file_extension": ".py",
   "mimetype": "text/x-python",
   "name": "python",
   "nbconvert_exporter": "python",
   "pygments_lexer": "ipython3",
   "version": "3.8.16"
  },
  "orig_nbformat": 4
 },
 "nbformat": 4,
 "nbformat_minor": 2
}
